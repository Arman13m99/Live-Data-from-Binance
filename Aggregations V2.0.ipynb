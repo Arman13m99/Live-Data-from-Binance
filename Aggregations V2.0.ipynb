{
 "cells": [
  {
   "cell_type": "markdown",
   "metadata": {},
   "source": [
    "# Binance Aggregation Trade Stream Websocket (Futures) V2.0"
   ]
  },
  {
   "cell_type": "markdown",
   "metadata": {},
   "source": [
    "### This Script Gets the Aggregation data from Binance & Saves it as a CSV file every 30 Minutes"
   ]
  },
  {
   "cell_type": "code",
   "execution_count": null,
   "metadata": {},
   "outputs": [],
   "source": [
    "import websocket\n",
    "import pandas as pd\n",
    "import json \n",
    "import threading  \n",
    "import time  \n",
    "\n",
    "# Create an empty DataFrame with specified columns using pandas\n",
    "df_agg = pd.DataFrame(columns=[\"Symbol\", \"Price\", \"Quantity\", \"Is Buyer Market Maker\"])  \n",
    "# Initialize ws variable as None\n",
    "ws = None  \n",
    "# Set save_interval variable to 1800 (seconds) for saving data at regular intervals (1 hour)\n",
    "save_interval = 1800  \n",
    "\n",
    "\n",
    "# Define a function named save_and_clear_df to Save the Data Recivied as a CSV\n",
    "def save_and_clear_df():  \n",
    "    while True:\n",
    "        time.sleep(save_interval)\n",
    "        current_time = pd.Timestamp.now().strftime(\"%Y-%m-%d_%H-%M-%S\") \n",
    "        df_agg.to_csv(f\"Aggregate-{current_time}.csv\")  \n",
    "        print(f\"(Agg) Chapter Saved at {current_time}\") \n",
    "        df_agg.drop(df_agg.index, inplace=True) \n",
    "        print(f\"(Agg) Clearing Dataframe at {current_time}\") \n",
    "\n",
    "# Create a thread to save and clear DataFrame\n",
    "save_thread = threading.Thread(target=save_and_clear_df) \n",
    "save_thread.daemon = True  # Set the thread as daemon so it terminates when the main thread exits\n",
    "save_thread.start()  \n",
    "\n",
    "\n",
    "# Define a function named on_message with parameters ws and message\n",
    "def on_message(ws, message):  \n",
    "    msg = json.loads(message)  # Parse the incoming message as JSON\n",
    "    if msg[\"e\"] == \"aggTrade\":  # Check if the message event is an aggregate trade\n",
    "        stream_agg_trade(msg)  # Call stream_agg_trade function with the message\n",
    "\n",
    "# Define a function named on_error with parameters ws and error\n",
    "def on_error(ws, error):  \n",
    "    print(error)  \n",
    "    current_time = pd.Timestamp.now().strftime(\"%Y-%m-%d_%H-%M-%S\")  \n",
    "    df_agg.to_csv(f\"Aggregate-{current_time}.csv\") \n",
    "\n",
    "# Define a function named on_close with parameter ws\n",
    "def on_close(ws):  \n",
    "    print(\"### Closed ###\")\n",
    "    current_time = pd.Timestamp.now().strftime(\"%Y-%m-%d_%H-%M-%S\")\n",
    "    df_agg.to_csv(f\"Aggregate-{current_time}.csv\") \n",
    "\n",
    "def on_open(ws):  # Define a function named on_open with parameter ws\n",
    "    print(\"### Opened ###\")  # Print a message indicating WebSocket is opened\n",
    "\n",
    "# Define a function named stream_agg_trade with parameter msg to extract the data into a dataframe \n",
    "def stream_agg_trade(msg):  \n",
    "    event_time = pd.to_datetime(msg[\"E\"], unit='ms')  # Convert event time to a pandas Timestamp\n",
    "    symbol = msg[\"s\"]  # Extract symbol from message\n",
    "    price = float(msg[\"p\"])  # Extract price from message and convert to float\n",
    "    quantity = float(msg[\"q\"])  # Extract quantity from message and convert to float\n",
    "    is_buyer_market_maker = msg[\"m\"]  # Extract if buyer is a market maker from message\n",
    "    print(f\"AGGREGATION: Event Time: {event_time} | Symbol: {symbol} | Price: {price} | Quantity: {quantity} | Is Buyer Market Maker: {is_buyer_market_maker}\", end=\"\\r\")  # Print aggregated trade information\n",
    "    df_agg.loc[event_time] = [symbol, price, quantity, is_buyer_market_maker]  # Add aggregated trade information to DataFrame\n",
    "\n",
    "# Define the WebSocket URL for Aggregate Trade Streams\n",
    "socket_url = \"wss://fstream.binance.com/ws/btcusdt@aggTrade\"\n",
    "\n",
    "# Create and run the WebSocket connection in a separate thread\n",
    "def run_websocket(): \n",
    "    websocket.enableTrace(False)  # Disable websocket trace\n",
    "    global ws \n",
    "    ws = websocket.WebSocketApp(socket_url, on_message=on_message, on_error=on_error, on_close=on_close)  # Create WebSocketApp instance with specified URL and event handlers\n",
    "    ws.on_open = on_open  # Set on_open handler\n",
    "    ws.run_forever()  # Start the WebSocket connection and run indefinitely\n",
    "\n",
    "def stop_websocket():  # Define a function named stop_websocket\n",
    "    global ws  # Access the global ws variable\n",
    "    if ws:  # Check if WebSocket connection exists\n",
    "        ws.close()  # Close the WebSocket connection if it's open\n",
    "\n",
    "websocket_thread = threading.Thread(target=run_websocket)  # Create a thread targeting the run_websocket function\n",
    "websocket_thread.start()  # Start the thread\n"
   ]
  }
 ],
 "metadata": {
  "kernelspec": {
   "display_name": "base",
   "language": "python",
   "name": "python3"
  },
  "language_info": {
   "codemirror_mode": {
    "name": "ipython",
    "version": 3
   },
   "file_extension": ".py",
   "mimetype": "text/x-python",
   "name": "python",
   "nbconvert_exporter": "python",
   "pygments_lexer": "ipython3",
   "version": "3.9.18"
  }
 },
 "nbformat": 4,
 "nbformat_minor": 2
}
