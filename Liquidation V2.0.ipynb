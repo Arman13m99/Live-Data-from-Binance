{
 "cells": [
  {
   "cell_type": "markdown",
   "metadata": {},
   "source": [
    "# Binance Liquidation Stream Websocket (Futures) V2.0"
   ]
  },
  {
   "cell_type": "markdown",
   "metadata": {},
   "source": [
    "### Overall, this script efficiently collects, processes, and saves liquidation order data from the Binance WebSocket stream, ensuring real-time monitoring and data persistence"
   ]
  },
  {
   "cell_type": "code",
   "execution_count": null,
   "metadata": {},
   "outputs": [],
   "source": [
    "import websocket\n",
    "import pandas as pd\n",
    "import json\n",
    "import threading\n",
    "import schedule\n",
    "import time\n",
    "\n",
    "df_liquid = pd.DataFrame(columns=['Symbol', 'Order_Type', 'Price', 'Original_Quantity', \"last_filled_quantity\", \"Side\",'Order_Status'])\n",
    "ws = None  # Initialize ws as a global variable\n",
    "save_interval = 1800  # Save interval in seconds (1 hour)\n",
    "\n",
    "def save_and_clear_df():\n",
    "    global df_liquid  # Declare df_liquid as global\n",
    "    while True:\n",
    "        time.sleep(save_interval)  # Wait for the specified interval\n",
    "        current_time = pd.Timestamp.now().strftime(\"%Y-%m-%d_%H-%M-%S\")\n",
    "        # Convert relevant columns to numeric types\n",
    "        df_liquid['Price'] = pd.to_numeric(df_liquid['Price'])\n",
    "        df_liquid['Original_Quantity'] = pd.to_numeric(df_liquid['Original_Quantity'])\n",
    "        df_liquid['last_filled_quantity'] = pd.to_numeric(df_liquid['last_filled_quantity'])\n",
    "        # Calculate derived columns\n",
    "        df_liquid['original_volume'] = df_liquid['Price'] * df_liquid['Original_Quantity']\n",
    "        df_liquid['last_filled_volume'] = df_liquid['Price'] * df_liquid['last_filled_quantity']\n",
    "        # Save DataFrame to CSV\n",
    "        df_liquid.to_csv(f\"Liquidation-{current_time}.csv\")\n",
    "        print(f\"(Liquidation) Chapter Saved at {current_time}\")\n",
    "        # Clear DataFrame by creating a new empty DataFrame\n",
    "        df_liquid = pd.DataFrame(columns=['Symbol', 'Order_Type', 'Price', 'Original_Quantity', \"last_filled_quantity\", \"Side\", 'Order_Status'])\n",
    "        print(f\"(Liquidation) Clearing Dataframe at {current_time}\")\n",
    "\n",
    "# Create a thread to save and clear DataFrame\n",
    "save_thread = threading.Thread(target=save_and_clear_df)\n",
    "save_thread.daemon = True  # Set the thread as daemon so it terminates when the main thread exits\n",
    "save_thread.start()\n",
    "\n",
    "def on_message(ws, message):\n",
    "    msg = json.loads(message)\n",
    "    if msg[\"e\"] == \"forceOrder\":\n",
    "        stream_liquidation(msg)\n",
    "\n",
    "def on_error(ws, error):\n",
    "    print(error)\n",
    "\n",
    "def on_close(ws):\n",
    "    print(\"### Closed ###\")\n",
    "\n",
    "def on_open(ws):\n",
    "    print(\"### Opened ###\")\n",
    "\n",
    "def stream_liquidation(msg):\n",
    "    # Extract required items from the message\n",
    "    event_time = pd.to_datetime(msg[\"E\"], unit='ms')  # Convert timestamp to datetime\n",
    "    symbol = msg[\"o\"][\"s\"]\n",
    "    side = msg[\"o\"][\"S\"]\n",
    "    order_type = msg[\"o\"][\"o\"]\n",
    "    time_in_force = msg[\"o\"][\"f\"]\n",
    "    original_quantity = msg[\"o\"][\"q\"]\n",
    "    price = msg[\"o\"][\"p\"]\n",
    "    average_price = msg[\"o\"][\"ap\"]\n",
    "    order_status = msg[\"o\"][\"X\"]\n",
    "    last_filled_quantity = msg[\"o\"][\"l\"]\n",
    "    filled_accumulated_quantity = msg[\"o\"][\"z\"]\n",
    "    order_trade_time = msg[\"o\"][\"T\"]\n",
    "\n",
    "    # Print out the liquidation order information\n",
    "    print(f\"LIQUIDATION: Event Time: {event_time} | Symbol: {symbol} | Side: {side} | Order Type: {order_type} | Price: {price} | Original  Quantity: {original_quantity} | Last Filled  Quantity: {last_filled_quantity} | Order Status: {order_status}\", end=\"\\r\")\n",
    "    df_liquid.loc[event_time] = [symbol, order_type, price, original_quantity, last_filled_quantity, side, order_status]\n",
    "\n",
    "\n",
    "# Define the WebSocket URL for Liquidation Order Streams\n",
    "socket_url = \"wss://fstream.binance.com/ws/!forceOrder@arr\"\n",
    "\n",
    "# Create and run the WebSocket connection in a separate thread\n",
    "def run_websocket():\n",
    "    websocket.enableTrace(False)\n",
    "    global ws\n",
    "    ws = websocket.WebSocketApp(socket_url, on_message=on_message, on_error=on_error, on_close=on_close)\n",
    "    ws.on_open = on_open\n",
    "    ws.run_forever()\n",
    "\n",
    "def stop_websocket():\n",
    "    global ws  # Access the global ws variable\n",
    "    if ws:\n",
    "        ws.close()  # Close the WebSocket connection if it's open\n",
    "\n",
    "websocket_thread = threading.Thread(target=run_websocket)\n",
    "websocket_thread.start()\n"
   ]
  },
  {
   "cell_type": "code",
   "execution_count": null,
   "metadata": {},
   "outputs": [],
   "source": [
    "stop_websocket()"
   ]
  }
 ],
 "metadata": {
  "kernelspec": {
   "display_name": "base",
   "language": "python",
   "name": "python3"
  },
  "language_info": {
   "codemirror_mode": {
    "name": "ipython",
    "version": 3
   },
   "file_extension": ".py",
   "mimetype": "text/x-python",
   "name": "python",
   "nbconvert_exporter": "python",
   "pygments_lexer": "ipython3",
   "version": "3.9.18"
  }
 },
 "nbformat": 4,
 "nbformat_minor": 2
}
